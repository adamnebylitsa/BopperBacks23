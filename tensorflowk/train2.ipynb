{
 "cells": [
  {
   "cell_type": "code",
   "execution_count": 1,
   "metadata": {},
   "outputs": [
    {
     "name": "stdout",
     "output_type": "stream",
     "text": [
      "2.11.0\n"
     ]
    }
   ],
   "source": [
    "import tensorflow as tf\n",
    "from keras import Sequential\n",
    "from keras.layers import Flatten, Dense, Dropout, BatchNormalization\n",
    "from keras.layers import Conv2D, MaxPool2D\n",
    "from keras.optimizers import Adam\n",
    "print(tf.__version__)"
   ]
  },
  {
   "cell_type": "code",
   "execution_count": 10,
   "metadata": {},
   "outputs": [],
   "source": [
    "import pandas as pd\n",
    "import numpy as np\n",
    "import matplotlib.pyplot as plt\n",
    "from sklearn.model_selection import train_test_split\n",
    "from sklearn.preprocessing import StandardScaler, LabelEncoder\n",
    "import os"
   ]
  },
  {
   "cell_type": "code",
   "execution_count": 42,
   "metadata": {},
   "outputs": [],
   "source": [
    "import scipy.stats as stats"
   ]
  },
  {
   "cell_type": "code",
   "execution_count": 7,
   "metadata": {},
   "outputs": [],
   "source": [
    "#Making dataframes to hold different categories\n",
    "df1 = pd.DataFrame()\n",
    "df2 = pd.DataFrame()\n",
    "df3 = pd.DataFrame()\n",
    "df4 = pd.DataFrame()"
   ]
  },
  {
   "cell_type": "code",
   "execution_count": 22,
   "metadata": {},
   "outputs": [
    {
     "name": "stdout",
     "output_type": "stream",
     "text": [
      "<class 'pandas.core.frame.DataFrame'>\n",
      "RangeIndex: 3789 entries, 0 to 3788\n",
      "Data columns (total 9 columns):\n",
      " #   Column     Non-Null Count  Dtype  \n",
      "---  ------     --------------  -----  \n",
      " 0   roll       3789 non-null   float64\n",
      " 1   aRoll      3789 non-null   float64\n",
      " 2   pitch      3789 non-null   float64\n",
      " 3   aPitch     3789 non-null   float64\n",
      " 4   yaw        3789 non-null   int64  \n",
      " 5   ratePitch  3789 non-null   float64\n",
      " 6   rateRoll   3789 non-null   float64\n",
      " 7   rateYaw    3789 non-null   float64\n",
      " 8   Category   2526 non-null   object \n",
      "dtypes: float64(7), int64(1), object(1)\n",
      "memory usage: 266.5+ KB\n"
     ]
    }
   ],
   "source": [
    "#Creating one big dataframe for all the jump data\n",
    "for file in os.listdir('data/jump'):\n",
    "    df1 = pd.concat([df1, pd.read_json('data/jump/' + file)],\n",
    "       ignore_index= True, sort=False)\n",
    "\n",
    "df1.head(12)\n",
    "df1.info()"
   ]
  },
  {
   "cell_type": "code",
   "execution_count": 16,
   "metadata": {},
   "outputs": [
    {
     "name": "stdout",
     "output_type": "stream",
     "text": [
      "<class 'pandas.core.frame.DataFrame'>\n",
      "RangeIndex: 2634 entries, 0 to 2633\n",
      "Data columns (total 8 columns):\n",
      " #   Column     Non-Null Count  Dtype  \n",
      "---  ------     --------------  -----  \n",
      " 0   roll       2634 non-null   float64\n",
      " 1   aRoll      2634 non-null   float64\n",
      " 2   pitch      2634 non-null   float64\n",
      " 3   aPitch     2634 non-null   float64\n",
      " 4   yaw        2634 non-null   int64  \n",
      " 5   ratePitch  2634 non-null   float64\n",
      " 6   rateRoll   2634 non-null   float64\n",
      " 7   rateYaw    2634 non-null   float64\n",
      "dtypes: float64(7), int64(1)\n",
      "memory usage: 164.8 KB\n"
     ]
    }
   ],
   "source": [
    "#Creating one big dataframe for all the jump data\n",
    "for file in os.listdir('data/place'):\n",
    "    df2 = pd.concat([df1, pd.read_json('data/place/' + file)],\n",
    "       ignore_index= True, sort=False)\n",
    "\n",
    "df2.info()"
   ]
  },
  {
   "cell_type": "code",
   "execution_count": 17,
   "metadata": {},
   "outputs": [
    {
     "name": "stdout",
     "output_type": "stream",
     "text": [
      "<class 'pandas.core.frame.DataFrame'>\n",
      "RangeIndex: 2608 entries, 0 to 2607\n",
      "Data columns (total 8 columns):\n",
      " #   Column     Non-Null Count  Dtype  \n",
      "---  ------     --------------  -----  \n",
      " 0   roll       2608 non-null   float64\n",
      " 1   aRoll      2608 non-null   float64\n",
      " 2   pitch      2608 non-null   float64\n",
      " 3   aPitch     2608 non-null   float64\n",
      " 4   yaw        2608 non-null   int64  \n",
      " 5   ratePitch  2608 non-null   float64\n",
      " 6   rateRoll   2608 non-null   float64\n",
      " 7   rateYaw    2608 non-null   float64\n",
      "dtypes: float64(7), int64(1)\n",
      "memory usage: 163.1 KB\n"
     ]
    }
   ],
   "source": [
    "#Creating one big dataframe for all the jump data\n",
    "for file in os.listdir('data/mine'):\n",
    "    df3 = pd.concat([df1, pd.read_json('data/mine/'+file)],\n",
    "       ignore_index= True, sort=False)\n",
    "\n",
    "df3.info()"
   ]
  },
  {
   "cell_type": "code",
   "execution_count": 20,
   "metadata": {},
   "outputs": [
    {
     "name": "stdout",
     "output_type": "stream",
     "text": [
      "<class 'pandas.core.frame.DataFrame'>\n",
      "RangeIndex: 2626 entries, 0 to 2625\n",
      "Data columns (total 8 columns):\n",
      " #   Column     Non-Null Count  Dtype  \n",
      "---  ------     --------------  -----  \n",
      " 0   roll       2626 non-null   float64\n",
      " 1   aRoll      2626 non-null   float64\n",
      " 2   pitch      2626 non-null   float64\n",
      " 3   aPitch     2626 non-null   float64\n",
      " 4   yaw        2626 non-null   int64  \n",
      " 5   ratePitch  2626 non-null   float64\n",
      " 6   rateRoll   2626 non-null   float64\n",
      " 7   rateYaw    2626 non-null   float64\n",
      "dtypes: float64(7), int64(1)\n",
      "memory usage: 164.2 KB\n"
     ]
    }
   ],
   "source": [
    "#Creating one big dataframe for all the jump data\n",
    "for file in os.listdir('data/swing'):\n",
    "    df4 = pd.concat([df1, pd.read_json(f'data/swing/'+file)],\n",
    "       ignore_index= True, sort=False)\n",
    "\n",
    "df4.info()"
   ]
  },
  {
   "cell_type": "code",
   "execution_count": 3,
   "metadata": {},
   "outputs": [],
   "source": [
    "df1 = pd.read_json('data/jump.json')\n",
    "df2 = pd.read_json('data/mine.json')\n",
    "df3 = pd.read_json('data/place.json')\n",
    "df4 = pd.read_json('data/sword_swing.json')"
   ]
  },
  {
   "cell_type": "code",
   "execution_count": 25,
   "metadata": {},
   "outputs": [],
   "source": [
    "df1['Category'] = ['jump'] * len(df1)\n",
    "df2['Category'] = ['mine'] * len(df2)\n",
    "df3['Category'] = ['place'] * len(df3)\n",
    "df4['Category'] = ['swing'] * len(df4)\n",
    "\n"
   ]
  },
  {
   "cell_type": "code",
   "execution_count": 26,
   "metadata": {},
   "outputs": [
    {
     "data": {
      "text/html": [
       "<div>\n",
       "<style scoped>\n",
       "    .dataframe tbody tr th:only-of-type {\n",
       "        vertical-align: middle;\n",
       "    }\n",
       "\n",
       "    .dataframe tbody tr th {\n",
       "        vertical-align: top;\n",
       "    }\n",
       "\n",
       "    .dataframe thead th {\n",
       "        text-align: right;\n",
       "    }\n",
       "</style>\n",
       "<table border=\"1\" class=\"dataframe\">\n",
       "  <thead>\n",
       "    <tr style=\"text-align: right;\">\n",
       "      <th></th>\n",
       "      <th>roll</th>\n",
       "      <th>aRoll</th>\n",
       "      <th>pitch</th>\n",
       "      <th>aPitch</th>\n",
       "      <th>yaw</th>\n",
       "      <th>ratePitch</th>\n",
       "      <th>rateRoll</th>\n",
       "      <th>rateYaw</th>\n",
       "      <th>Category</th>\n",
       "    </tr>\n",
       "  </thead>\n",
       "  <tbody>\n",
       "    <tr>\n",
       "      <th>0</th>\n",
       "      <td>36.025166</td>\n",
       "      <td>18.434948</td>\n",
       "      <td>9.849437</td>\n",
       "      <td>5.385874</td>\n",
       "      <td>0</td>\n",
       "      <td>33.599998</td>\n",
       "      <td>-20.799999</td>\n",
       "      <td>-2.10</td>\n",
       "      <td>swing</td>\n",
       "    </tr>\n",
       "    <tr>\n",
       "      <th>1</th>\n",
       "      <td>36.025166</td>\n",
       "      <td>18.434948</td>\n",
       "      <td>9.849437</td>\n",
       "      <td>5.385874</td>\n",
       "      <td>0</td>\n",
       "      <td>36.299999</td>\n",
       "      <td>-24.950001</td>\n",
       "      <td>-11.65</td>\n",
       "      <td>swing</td>\n",
       "    </tr>\n",
       "    <tr>\n",
       "      <th>2</th>\n",
       "      <td>34.046967</td>\n",
       "      <td>7.765166</td>\n",
       "      <td>-13.223436</td>\n",
       "      <td>-13.223436</td>\n",
       "      <td>0</td>\n",
       "      <td>37.299999</td>\n",
       "      <td>-30.400000</td>\n",
       "      <td>-15.50</td>\n",
       "      <td>swing</td>\n",
       "    </tr>\n",
       "    <tr>\n",
       "      <th>3</th>\n",
       "      <td>32.731537</td>\n",
       "      <td>15.255118</td>\n",
       "      <td>-13.199908</td>\n",
       "      <td>-12.887323</td>\n",
       "      <td>0</td>\n",
       "      <td>33.750000</td>\n",
       "      <td>-28.600000</td>\n",
       "      <td>-12.00</td>\n",
       "      <td>swing</td>\n",
       "    </tr>\n",
       "    <tr>\n",
       "      <th>4</th>\n",
       "      <td>31.463791</td>\n",
       "      <td>14.620873</td>\n",
       "      <td>-13.142510</td>\n",
       "      <td>-12.379943</td>\n",
       "      <td>0</td>\n",
       "      <td>26.600000</td>\n",
       "      <td>-17.200001</td>\n",
       "      <td>-1.85</td>\n",
       "      <td>swing</td>\n",
       "    </tr>\n",
       "  </tbody>\n",
       "</table>\n",
       "</div>"
      ],
      "text/plain": [
       "        roll      aRoll      pitch     aPitch  yaw  ratePitch   rateRoll  \\\n",
       "0  36.025166  18.434948   9.849437   5.385874    0  33.599998 -20.799999   \n",
       "1  36.025166  18.434948   9.849437   5.385874    0  36.299999 -24.950001   \n",
       "2  34.046967   7.765166 -13.223436 -13.223436    0  37.299999 -30.400000   \n",
       "3  32.731537  15.255118 -13.199908 -12.887323    0  33.750000 -28.600000   \n",
       "4  31.463791  14.620873 -13.142510 -12.379943    0  26.600000 -17.200001   \n",
       "\n",
       "   rateYaw Category  \n",
       "0    -2.10    swing  \n",
       "1   -11.65    swing  \n",
       "2   -15.50    swing  \n",
       "3   -12.00    swing  \n",
       "4    -1.85    swing  "
      ]
     },
     "execution_count": 26,
     "metadata": {},
     "output_type": "execute_result"
    }
   ],
   "source": [
    "df4.head()"
   ]
  },
  {
   "cell_type": "code",
   "execution_count": 27,
   "metadata": {},
   "outputs": [],
   "source": [
    "x = 2608\n",
    "jump = df1.head(x).copy()\n",
    "mine = df2.head(x).copy()\n",
    "place = df3.head(x).copy()\n",
    "swing_sword = df4.head(x).copy()"
   ]
  },
  {
   "cell_type": "code",
   "execution_count": 28,
   "metadata": {},
   "outputs": [
    {
     "name": "stderr",
     "output_type": "stream",
     "text": [
      "C:\\Users\\kxfor\\AppData\\Local\\Temp\\ipykernel_24552\\1030439845.py:2: FutureWarning: The frame.append method is deprecated and will be removed from pandas in a future version. Use pandas.concat instead.\n",
      "  balanced_data = balanced_data.append([jump, mine, place, swing_sword])\n"
     ]
    },
    {
     "data": {
      "text/plain": [
       "(10432, 9)"
      ]
     },
     "execution_count": 28,
     "metadata": {},
     "output_type": "execute_result"
    }
   ],
   "source": [
    "balanced_data = pd.DataFrame()\n",
    "balanced_data = balanced_data.append([jump, mine, place, swing_sword])\n",
    "balanced_data.shape"
   ]
  },
  {
   "cell_type": "code",
   "execution_count": 32,
   "metadata": {},
   "outputs": [],
   "source": [
    "balanced_data['yaw'] = balanced_data['yaw'].astype(float)"
   ]
  },
  {
   "cell_type": "code",
   "execution_count": 33,
   "metadata": {},
   "outputs": [
    {
     "name": "stdout",
     "output_type": "stream",
     "text": [
      "<class 'pandas.core.frame.DataFrame'>\n",
      "Int64Index: 10432 entries, 0 to 2607\n",
      "Data columns (total 9 columns):\n",
      " #   Column     Non-Null Count  Dtype  \n",
      "---  ------     --------------  -----  \n",
      " 0   roll       10432 non-null  float64\n",
      " 1   aRoll      10432 non-null  float64\n",
      " 2   pitch      10432 non-null  float64\n",
      " 3   aPitch     10432 non-null  float64\n",
      " 4   yaw        10432 non-null  float64\n",
      " 5   ratePitch  10432 non-null  float64\n",
      " 6   rateRoll   10432 non-null  float64\n",
      " 7   rateYaw    10432 non-null  float64\n",
      " 8   Category   10432 non-null  object \n",
      "dtypes: float64(8), object(1)\n",
      "memory usage: 815.0+ KB\n"
     ]
    }
   ],
   "source": [
    "balanced_data.info()"
   ]
  },
  {
   "cell_type": "code",
   "execution_count": 34,
   "metadata": {},
   "outputs": [
    {
     "data": {
      "text/html": [
       "<div>\n",
       "<style scoped>\n",
       "    .dataframe tbody tr th:only-of-type {\n",
       "        vertical-align: middle;\n",
       "    }\n",
       "\n",
       "    .dataframe tbody tr th {\n",
       "        vertical-align: top;\n",
       "    }\n",
       "\n",
       "    .dataframe thead th {\n",
       "        text-align: right;\n",
       "    }\n",
       "</style>\n",
       "<table border=\"1\" class=\"dataframe\">\n",
       "  <thead>\n",
       "    <tr style=\"text-align: right;\">\n",
       "      <th></th>\n",
       "      <th>roll</th>\n",
       "      <th>aRoll</th>\n",
       "      <th>pitch</th>\n",
       "      <th>aPitch</th>\n",
       "      <th>yaw</th>\n",
       "      <th>ratePitch</th>\n",
       "      <th>rateRoll</th>\n",
       "      <th>rateYaw</th>\n",
       "      <th>Category</th>\n",
       "    </tr>\n",
       "  </thead>\n",
       "  <tbody>\n",
       "    <tr>\n",
       "      <th>0</th>\n",
       "      <td>36.025166</td>\n",
       "      <td>18.434948</td>\n",
       "      <td>9.849437</td>\n",
       "      <td>5.385874</td>\n",
       "      <td>0.0</td>\n",
       "      <td>33.599998</td>\n",
       "      <td>-20.799999</td>\n",
       "      <td>-2.10</td>\n",
       "      <td>jump</td>\n",
       "    </tr>\n",
       "    <tr>\n",
       "      <th>1</th>\n",
       "      <td>36.025166</td>\n",
       "      <td>18.434948</td>\n",
       "      <td>9.849437</td>\n",
       "      <td>5.385874</td>\n",
       "      <td>0.0</td>\n",
       "      <td>36.299999</td>\n",
       "      <td>-24.950001</td>\n",
       "      <td>-11.65</td>\n",
       "      <td>jump</td>\n",
       "    </tr>\n",
       "    <tr>\n",
       "      <th>2</th>\n",
       "      <td>34.046967</td>\n",
       "      <td>7.765166</td>\n",
       "      <td>-13.223436</td>\n",
       "      <td>-13.223436</td>\n",
       "      <td>0.0</td>\n",
       "      <td>37.299999</td>\n",
       "      <td>-30.400000</td>\n",
       "      <td>-15.50</td>\n",
       "      <td>jump</td>\n",
       "    </tr>\n",
       "    <tr>\n",
       "      <th>3</th>\n",
       "      <td>32.731537</td>\n",
       "      <td>15.255118</td>\n",
       "      <td>-13.199908</td>\n",
       "      <td>-12.887323</td>\n",
       "      <td>0.0</td>\n",
       "      <td>33.750000</td>\n",
       "      <td>-28.600000</td>\n",
       "      <td>-12.00</td>\n",
       "      <td>jump</td>\n",
       "    </tr>\n",
       "    <tr>\n",
       "      <th>4</th>\n",
       "      <td>31.463791</td>\n",
       "      <td>14.620873</td>\n",
       "      <td>-13.142510</td>\n",
       "      <td>-12.379943</td>\n",
       "      <td>0.0</td>\n",
       "      <td>26.600000</td>\n",
       "      <td>-17.200001</td>\n",
       "      <td>-1.85</td>\n",
       "      <td>jump</td>\n",
       "    </tr>\n",
       "  </tbody>\n",
       "</table>\n",
       "</div>"
      ],
      "text/plain": [
       "        roll      aRoll      pitch     aPitch  yaw  ratePitch   rateRoll  \\\n",
       "0  36.025166  18.434948   9.849437   5.385874  0.0  33.599998 -20.799999   \n",
       "1  36.025166  18.434948   9.849437   5.385874  0.0  36.299999 -24.950001   \n",
       "2  34.046967   7.765166 -13.223436 -13.223436  0.0  37.299999 -30.400000   \n",
       "3  32.731537  15.255118 -13.199908 -12.887323  0.0  33.750000 -28.600000   \n",
       "4  31.463791  14.620873 -13.142510 -12.379943  0.0  26.600000 -17.200001   \n",
       "\n",
       "   rateYaw Category  \n",
       "0    -2.10     jump  \n",
       "1   -11.65     jump  \n",
       "2   -15.50     jump  \n",
       "3   -12.00     jump  \n",
       "4    -1.85     jump  "
      ]
     },
     "execution_count": 34,
     "metadata": {},
     "output_type": "execute_result"
    }
   ],
   "source": [
    "balanced_data.head()"
   ]
  },
  {
   "cell_type": "code",
   "execution_count": 39,
   "metadata": {},
   "outputs": [
    {
     "data": {
      "text/html": [
       "<div>\n",
       "<style scoped>\n",
       "    .dataframe tbody tr th:only-of-type {\n",
       "        vertical-align: middle;\n",
       "    }\n",
       "\n",
       "    .dataframe tbody tr th {\n",
       "        vertical-align: top;\n",
       "    }\n",
       "\n",
       "    .dataframe thead th {\n",
       "        text-align: right;\n",
       "    }\n",
       "</style>\n",
       "<table border=\"1\" class=\"dataframe\">\n",
       "  <thead>\n",
       "    <tr style=\"text-align: right;\">\n",
       "      <th></th>\n",
       "      <th>roll</th>\n",
       "      <th>aRoll</th>\n",
       "      <th>pitch</th>\n",
       "      <th>aPitch</th>\n",
       "      <th>yaw</th>\n",
       "      <th>ratePitch</th>\n",
       "      <th>rateRoll</th>\n",
       "      <th>rateYaw</th>\n",
       "      <th>Category</th>\n",
       "      <th>label</th>\n",
       "    </tr>\n",
       "  </thead>\n",
       "  <tbody>\n",
       "    <tr>\n",
       "      <th>0</th>\n",
       "      <td>36.025166</td>\n",
       "      <td>18.434948</td>\n",
       "      <td>9.849437</td>\n",
       "      <td>5.385874</td>\n",
       "      <td>0.0</td>\n",
       "      <td>33.599998</td>\n",
       "      <td>-20.799999</td>\n",
       "      <td>-2.10</td>\n",
       "      <td>jump</td>\n",
       "      <td>0</td>\n",
       "    </tr>\n",
       "    <tr>\n",
       "      <th>1</th>\n",
       "      <td>36.025166</td>\n",
       "      <td>18.434948</td>\n",
       "      <td>9.849437</td>\n",
       "      <td>5.385874</td>\n",
       "      <td>0.0</td>\n",
       "      <td>36.299999</td>\n",
       "      <td>-24.950001</td>\n",
       "      <td>-11.65</td>\n",
       "      <td>jump</td>\n",
       "      <td>0</td>\n",
       "    </tr>\n",
       "    <tr>\n",
       "      <th>2</th>\n",
       "      <td>34.046967</td>\n",
       "      <td>7.765166</td>\n",
       "      <td>-13.223436</td>\n",
       "      <td>-13.223436</td>\n",
       "      <td>0.0</td>\n",
       "      <td>37.299999</td>\n",
       "      <td>-30.400000</td>\n",
       "      <td>-15.50</td>\n",
       "      <td>jump</td>\n",
       "      <td>0</td>\n",
       "    </tr>\n",
       "    <tr>\n",
       "      <th>3</th>\n",
       "      <td>32.731537</td>\n",
       "      <td>15.255118</td>\n",
       "      <td>-13.199908</td>\n",
       "      <td>-12.887323</td>\n",
       "      <td>0.0</td>\n",
       "      <td>33.750000</td>\n",
       "      <td>-28.600000</td>\n",
       "      <td>-12.00</td>\n",
       "      <td>jump</td>\n",
       "      <td>0</td>\n",
       "    </tr>\n",
       "    <tr>\n",
       "      <th>4</th>\n",
       "      <td>31.463791</td>\n",
       "      <td>14.620873</td>\n",
       "      <td>-13.142510</td>\n",
       "      <td>-12.379943</td>\n",
       "      <td>0.0</td>\n",
       "      <td>26.600000</td>\n",
       "      <td>-17.200001</td>\n",
       "      <td>-1.85</td>\n",
       "      <td>jump</td>\n",
       "      <td>0</td>\n",
       "    </tr>\n",
       "  </tbody>\n",
       "</table>\n",
       "</div>"
      ],
      "text/plain": [
       "        roll      aRoll      pitch     aPitch  yaw  ratePitch   rateRoll  \\\n",
       "0  36.025166  18.434948   9.849437   5.385874  0.0  33.599998 -20.799999   \n",
       "1  36.025166  18.434948   9.849437   5.385874  0.0  36.299999 -24.950001   \n",
       "2  34.046967   7.765166 -13.223436 -13.223436  0.0  37.299999 -30.400000   \n",
       "3  32.731537  15.255118 -13.199908 -12.887323  0.0  33.750000 -28.600000   \n",
       "4  31.463791  14.620873 -13.142510 -12.379943  0.0  26.600000 -17.200001   \n",
       "\n",
       "   rateYaw Category  label  \n",
       "0    -2.10     jump      0  \n",
       "1   -11.65     jump      0  \n",
       "2   -15.50     jump      0  \n",
       "3   -12.00     jump      0  \n",
       "4    -1.85     jump      0  "
      ]
     },
     "execution_count": 39,
     "metadata": {},
     "output_type": "execute_result"
    }
   ],
   "source": [
    "#labelEncoder is object from scikit-learn (sklearn) library\n",
    "#basically takes the activities in the activity column and gives them numeric values\n",
    "label = LabelEncoder()\n",
    "balanced_data['label'] = label.fit_transform(balanced_data['Category'])\n",
    "# print(balanced_data.sample(n=7))\n",
    "balanced_data.head()"
   ]
  },
  {
   "cell_type": "code",
   "execution_count": 38,
   "metadata": {},
   "outputs": [
    {
     "data": {
      "text/plain": [
       "array(['jump', 'mine', 'place', 'swing'], dtype=object)"
      ]
     },
     "execution_count": 38,
     "metadata": {},
     "output_type": "execute_result"
    }
   ],
   "source": [
    "#label_classes_ gives you back your original labels:\n",
    "label.classes_"
   ]
  },
  {
   "cell_type": "code",
   "execution_count": 40,
   "metadata": {},
   "outputs": [],
   "source": [
    "X = balanced_data[['roll', 'aRoll', 'pitch', 'aPitch', 'yaw', 'ratePitch', 'rateYaw']]\n",
    "y = balanced_data['label']"
   ]
  },
  {
   "cell_type": "code",
   "execution_count": 41,
   "metadata": {},
   "outputs": [
    {
     "data": {
      "text/html": [
       "<div>\n",
       "<style scoped>\n",
       "    .dataframe tbody tr th:only-of-type {\n",
       "        vertical-align: middle;\n",
       "    }\n",
       "\n",
       "    .dataframe tbody tr th {\n",
       "        vertical-align: top;\n",
       "    }\n",
       "\n",
       "    .dataframe thead th {\n",
       "        text-align: right;\n",
       "    }\n",
       "</style>\n",
       "<table border=\"1\" class=\"dataframe\">\n",
       "  <thead>\n",
       "    <tr style=\"text-align: right;\">\n",
       "      <th></th>\n",
       "      <th>roll</th>\n",
       "      <th>aRoll</th>\n",
       "      <th>pitch</th>\n",
       "      <th>aPitch</th>\n",
       "      <th>yaw</th>\n",
       "      <th>ratePitch</th>\n",
       "      <th>rateYaw</th>\n",
       "      <th>label</th>\n",
       "    </tr>\n",
       "  </thead>\n",
       "  <tbody>\n",
       "    <tr>\n",
       "      <th>0</th>\n",
       "      <td>0.537929</td>\n",
       "      <td>0.266990</td>\n",
       "      <td>1.567589</td>\n",
       "      <td>1.090905</td>\n",
       "      <td>0.0</td>\n",
       "      <td>0.262793</td>\n",
       "      <td>-0.170018</td>\n",
       "      <td>0</td>\n",
       "    </tr>\n",
       "    <tr>\n",
       "      <th>1</th>\n",
       "      <td>0.537929</td>\n",
       "      <td>0.266990</td>\n",
       "      <td>1.567589</td>\n",
       "      <td>1.090905</td>\n",
       "      <td>0.0</td>\n",
       "      <td>0.286851</td>\n",
       "      <td>-0.339341</td>\n",
       "      <td>0</td>\n",
       "    </tr>\n",
       "    <tr>\n",
       "      <th>2</th>\n",
       "      <td>0.506809</td>\n",
       "      <td>0.101322</td>\n",
       "      <td>0.356281</td>\n",
       "      <td>0.321398</td>\n",
       "      <td>0.0</td>\n",
       "      <td>0.295762</td>\n",
       "      <td>-0.407603</td>\n",
       "      <td>0</td>\n",
       "    </tr>\n",
       "    <tr>\n",
       "      <th>3</th>\n",
       "      <td>0.486115</td>\n",
       "      <td>0.217618</td>\n",
       "      <td>0.357516</td>\n",
       "      <td>0.335297</td>\n",
       "      <td>0.0</td>\n",
       "      <td>0.264130</td>\n",
       "      <td>-0.345547</td>\n",
       "      <td>0</td>\n",
       "    </tr>\n",
       "    <tr>\n",
       "      <th>4</th>\n",
       "      <td>0.466171</td>\n",
       "      <td>0.207770</td>\n",
       "      <td>0.360529</td>\n",
       "      <td>0.356277</td>\n",
       "      <td>0.0</td>\n",
       "      <td>0.200420</td>\n",
       "      <td>-0.165585</td>\n",
       "      <td>0</td>\n",
       "    </tr>\n",
       "  </tbody>\n",
       "</table>\n",
       "</div>"
      ],
      "text/plain": [
       "       roll     aRoll     pitch    aPitch  yaw  ratePitch   rateYaw  label\n",
       "0  0.537929  0.266990  1.567589  1.090905  0.0   0.262793 -0.170018      0\n",
       "1  0.537929  0.266990  1.567589  1.090905  0.0   0.286851 -0.339341      0\n",
       "2  0.506809  0.101322  0.356281  0.321398  0.0   0.295762 -0.407603      0\n",
       "3  0.486115  0.217618  0.357516  0.335297  0.0   0.264130 -0.345547      0\n",
       "4  0.466171  0.207770  0.360529  0.356277  0.0   0.200420 -0.165585      0"
      ]
     },
     "execution_count": 41,
     "metadata": {},
     "output_type": "execute_result"
    }
   ],
   "source": [
    "scaler = StandardScaler()\n",
    "x = scaler.fit_transform(X)\n",
    "\n",
    "scaled_X = pd.DataFrame(data = x, columns = ['roll', 'aRoll', 'pitch', 'aPitch', 'yaw', 'ratePitch', 'rateYaw'])\n",
    "scaled_X['label'] = y.values\n",
    "\n",
    "scaled_X.head()"
   ]
  },
  {
   "cell_type": "code",
   "execution_count": 43,
   "metadata": {},
   "outputs": [],
   "source": [
    "Fs = 60\n",
    "frame_size = Fs*3 # 180\n",
    "hop_size = int(Fs*1.5) # 90"
   ]
  },
  {
   "cell_type": "code",
   "execution_count": 44,
   "metadata": {},
   "outputs": [
    {
     "name": "stderr",
     "output_type": "stream",
     "text": [
      "C:\\Users\\kxfor\\AppData\\Local\\Temp\\ipykernel_24552\\3152381221.py:18: FutureWarning: Unlike other reduction functions (e.g. `skew`, `kurtosis`), the default behavior of `mode` typically preserves the axis it acts along. In SciPy 1.11.0, this behavior will change: the default value of `keepdims` will become False, the `axis` over which the statistic is taken will be eliminated, and the value None will no longer be accepted. Set `keepdims` to True or False to avoid this warning.\n",
      "  label = stats.mode(df['label'][i: i + frame_size])[0][0]\n"
     ]
    },
    {
     "data": {
      "text/plain": [
       "((114, 180, 7), (114,))"
      ]
     },
     "execution_count": 44,
     "metadata": {},
     "output_type": "execute_result"
    }
   ],
   "source": [
    "def get_frames(df, frame_size, hop_size):\n",
    "\n",
    "    N_FEATURES = 7\n",
    "\n",
    "    frames = []\n",
    "    labels = []\n",
    "    for i in range(0, len(df) - frame_size, hop_size):\n",
    "        roll = df['roll'].values[i: i + frame_size]\n",
    "        aRoll = df['aRoll'].values[i: i + frame_size]\n",
    "        pitch = df['pitch'].values[i: i + frame_size]\n",
    "        aPitch = df['aPitch'].values[i: i + frame_size]\n",
    "        yaw = df['yaw'].values[i: i + frame_size]\n",
    "        ratePitch = df['ratePitch'].values[i: i + frame_size]\n",
    "        rateYaw = df['rateYaw'].values[i: i + frame_size]\n",
    "\n",
    "        \n",
    "        # Retrieve the most often used label in this segment\n",
    "        label = stats.mode(df['label'][i: i + frame_size])[0][0]\n",
    "        frames.append([roll, aRoll, pitch, aPitch, yaw, ratePitch, rateYaw])\n",
    "        labels.append(label)\n",
    "\n",
    "    # Bring the segments into a better shape\n",
    "    frames = np.asarray(frames).reshape(-1, frame_size, N_FEATURES)\n",
    "    labels = np.asarray(labels)\n",
    "\n",
    "    return frames, labels\n",
    "\n",
    "X, y = get_frames(scaled_X, frame_size, hop_size)\n",
    "\n",
    "X.shape, y.shape"
   ]
  },
  {
   "cell_type": "code",
   "execution_count": 45,
   "metadata": {},
   "outputs": [],
   "source": [
    "X_train, X_test, y_train, y_test = train_test_split(X, y, test_size = 0.2, random_state = 0, stratify = y)"
   ]
  },
  {
   "cell_type": "code",
   "execution_count": 46,
   "metadata": {},
   "outputs": [
    {
     "data": {
      "text/plain": [
       "((91, 180, 7), (23, 180, 7))"
      ]
     },
     "execution_count": 46,
     "metadata": {},
     "output_type": "execute_result"
    }
   ],
   "source": [
    "X_train.shape, X_test.shape\n"
   ]
  },
  {
   "cell_type": "code",
   "execution_count": 47,
   "metadata": {},
   "outputs": [
    {
     "data": {
      "text/plain": [
       "((180, 7), (180, 7))"
      ]
     },
     "execution_count": 47,
     "metadata": {},
     "output_type": "execute_result"
    }
   ],
   "source": [
    "X_train[0].shape, X_test[0].shape"
   ]
  },
  {
   "cell_type": "code",
   "execution_count": 48,
   "metadata": {},
   "outputs": [],
   "source": [
    "X_train = X_train.reshape(91, 180, 7, 1)\n",
    "X_test = X_test.reshape(23, 180, 7, 1)"
   ]
  },
  {
   "cell_type": "code",
   "execution_count": 50,
   "metadata": {},
   "outputs": [
    {
     "data": {
      "text/plain": [
       "((180, 7, 1), (180, 7, 1))"
      ]
     },
     "execution_count": 50,
     "metadata": {},
     "output_type": "execute_result"
    }
   ],
   "source": [
    "X_train[0].shape, X_test[0].shape\n",
    "\n"
   ]
  },
  {
   "cell_type": "code",
   "execution_count": 51,
   "metadata": {},
   "outputs": [],
   "source": [
    "model = Sequential()\n",
    "model.add(Conv2D(16, (2, 2), activation = 'relu', input_shape = X_train[0].shape))\n",
    "model.add(Dropout(0.1))\n",
    "\n",
    "model.add(Conv2D(32, (2, 2), activation='relu'))\n",
    "model.add(Dropout(0.2))\n",
    "\n",
    "model.add(Flatten())\n",
    "\n",
    "model.add(Dense(64, activation = 'relu'))\n",
    "model.add(Dropout(0.5))\n",
    "\n",
    "model.add(Dense(6, activation='softmax'))"
   ]
  },
  {
   "cell_type": "code",
   "execution_count": 53,
   "metadata": {},
   "outputs": [
    {
     "name": "stdout",
     "output_type": "stream",
     "text": [
      "Epoch 1/20\n",
      "3/3 [==============================] - 2s 392ms/step - loss: 0.8440 - accuracy: 0.6813 - val_loss: 2.2435 - val_accuracy: 0.0435\n",
      "Epoch 2/20\n",
      "3/3 [==============================] - 0s 177ms/step - loss: 0.7476 - accuracy: 0.6374 - val_loss: 2.2457 - val_accuracy: 0.0435\n",
      "Epoch 3/20\n",
      "3/3 [==============================] - 0s 91ms/step - loss: 0.7923 - accuracy: 0.7143 - val_loss: 2.2598 - val_accuracy: 0.0870\n",
      "Epoch 4/20\n",
      "3/3 [==============================] - 0s 103ms/step - loss: 0.6831 - accuracy: 0.7582 - val_loss: 2.3286 - val_accuracy: 0.0870\n",
      "Epoch 5/20\n",
      "3/3 [==============================] - 0s 97ms/step - loss: 0.5332 - accuracy: 0.8462 - val_loss: 2.3498 - val_accuracy: 0.0870\n",
      "Epoch 6/20\n",
      "3/3 [==============================] - 0s 115ms/step - loss: 0.5279 - accuracy: 0.8132 - val_loss: 2.3980 - val_accuracy: 0.0870\n",
      "Epoch 7/20\n",
      "3/3 [==============================] - 0s 120ms/step - loss: 0.4878 - accuracy: 0.8132 - val_loss: 2.4922 - val_accuracy: 0.0870\n",
      "Epoch 8/20\n",
      "3/3 [==============================] - 0s 105ms/step - loss: 0.3645 - accuracy: 0.9231 - val_loss: 2.6630 - val_accuracy: 0.0435\n",
      "Epoch 9/20\n",
      "3/3 [==============================] - 0s 101ms/step - loss: 0.3878 - accuracy: 0.8681 - val_loss: 2.7617 - val_accuracy: 0.0435\n",
      "Epoch 10/20\n",
      "3/3 [==============================] - 0s 174ms/step - loss: 0.3008 - accuracy: 0.9451 - val_loss: 2.8200 - val_accuracy: 0.0870\n",
      "Epoch 11/20\n",
      "3/3 [==============================] - 0s 109ms/step - loss: 0.2910 - accuracy: 0.9341 - val_loss: 2.9146 - val_accuracy: 0.0870\n",
      "Epoch 12/20\n",
      "3/3 [==============================] - 0s 103ms/step - loss: 0.2659 - accuracy: 0.9011 - val_loss: 3.0570 - val_accuracy: 0.0870\n",
      "Epoch 13/20\n",
      "3/3 [==============================] - 0s 116ms/step - loss: 0.2379 - accuracy: 0.9451 - val_loss: 3.0964 - val_accuracy: 0.0870\n",
      "Epoch 14/20\n",
      "3/3 [==============================] - 0s 113ms/step - loss: 0.1857 - accuracy: 0.9560 - val_loss: 3.0992 - val_accuracy: 0.0870\n",
      "Epoch 15/20\n",
      "3/3 [==============================] - 0s 104ms/step - loss: 0.1873 - accuracy: 0.9670 - val_loss: 3.1410 - val_accuracy: 0.0870\n",
      "Epoch 16/20\n",
      "3/3 [==============================] - 0s 94ms/step - loss: 0.2837 - accuracy: 0.9011 - val_loss: 3.0701 - val_accuracy: 0.0870\n",
      "Epoch 17/20\n",
      "3/3 [==============================] - 0s 100ms/step - loss: 0.1892 - accuracy: 0.9121 - val_loss: 3.0421 - val_accuracy: 0.0870\n",
      "Epoch 18/20\n",
      "3/3 [==============================] - 0s 95ms/step - loss: 0.1968 - accuracy: 0.9341 - val_loss: 2.9846 - val_accuracy: 0.0870\n",
      "Epoch 19/20\n",
      "3/3 [==============================] - 0s 106ms/step - loss: 0.1335 - accuracy: 0.9670 - val_loss: 2.9161 - val_accuracy: 0.0870\n",
      "Epoch 20/20\n",
      "3/3 [==============================] - 0s 100ms/step - loss: 0.0990 - accuracy: 1.0000 - val_loss: 2.9382 - val_accuracy: 0.1304\n"
     ]
    }
   ],
   "source": [
    "model.compile(optimizer=Adam(learning_rate = 0.001), loss = 'sparse_categorical_crossentropy', metrics = ['accuracy'])\n",
    "history = model.fit(X_train, y_train, epochs = 20, validation_data= (X_test, y_test), verbose=1)"
   ]
  },
  {
   "cell_type": "code",
   "execution_count": 54,
   "metadata": {},
   "outputs": [],
   "source": [
    "def plot_learningCurve(history, epochs):\n",
    "  # Plot training & validation accuracy values\n",
    "  epoch_range = range(1, epochs+1)\n",
    "  plt.plot(epoch_range, history.history['accuracy'])\n",
    "  plt.plot(epoch_range, history.history['val_accuracy'])\n",
    "  plt.title('Model accuracy')\n",
    "  plt.ylabel('Accuracy')\n",
    "  plt.xlabel('Epoch')\n",
    "  plt.legend(['Train', 'Val'], loc='upper left')\n",
    "  plt.show()\n",
    "\n",
    "  # Plot training & validation loss values\n",
    "  plt.plot(epoch_range, history.history['loss'])\n",
    "  plt.plot(epoch_range, history.history['val_loss'])\n",
    "  plt.title('Model loss')\n",
    "  plt.ylabel('Loss')\n",
    "  plt.xlabel('Epoch')\n",
    "  plt.legend(['Train', 'Val'], loc='upper left')\n",
    "  plt.show()"
   ]
  },
  {
   "cell_type": "code",
   "execution_count": 55,
   "metadata": {},
   "outputs": [
    {
     "data": {
      "image/png": "[encoded data removed]",
      "text/plain": [
       "<Figure size 640x480 with 1 Axes>"
      ]
     },
     "metadata": {},
     "output_type": "display_data"
    },
    {
     "data": {
      "image/png": "[encoded data removed]",
      "text/plain": [
       "<Figure size 640x480 with 1 Axes>"
      ]
     },
     "metadata": {},
     "output_type": "display_data"
    }
   ],
   "source": [
    "plot_learningCurve(history, 20)\n"
   ]
  }
 ],
 "metadata": {
  "kernelspec": {
   "display_name": "hopperenv",
   "language": "python",
   "name": "python3"
  },
  "language_info": {
   "codemirror_mode": {
    "name": "ipython",
    "version": 3
   },
   "file_extension": ".py",
   "mimetype": "text/x-python",
   "name": "python",
   "nbconvert_exporter": "python",
   "pygments_lexer": "ipython3",
   "version": "3.9.13"
  },
  "orig_nbformat": 4,
  "vscode": {
   "interpreter": {
    "hash": "ad9e8f6681598291cada42cec2c0d59166b7428fe7da68341918ad5f8d737a26"
   }
  }
 },
 "nbformat": 4,
 "nbformat_minor": 2
}
